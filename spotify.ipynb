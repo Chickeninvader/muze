{
 "cells": [
  {
   "cell_type": "markdown",
   "metadata": {},
   "source": [
    "# Convert mp3 files to MIDI\n"
   ]
  },
  {
   "cell_type": "markdown",
   "metadata": {},
   "source": [
    "## set up environment ##"
   ]
  },
  {
   "cell_type": "code",
   "execution_count": null,
   "metadata": {},
   "outputs": [],
   "source": [
    "!pip install basic-pitch"
   ]
  },
  {
   "cell_type": "code",
   "execution_count": 17,
   "metadata": {},
   "outputs": [
    {
     "data": {
      "text/plain": [
       "WindowsPath('midi_dataset/we_wish_you.mp3')"
      ]
     },
     "execution_count": 17,
     "metadata": {},
     "output_type": "execute_result"
    }
   ],
   "source": [
    "from pathlib import Path\n",
    "Path(\"midi_dataset/we_wish_you.mp3\")"
   ]
  },
  {
   "cell_type": "code",
   "execution_count": 19,
   "metadata": {},
   "outputs": [
    {
     "name": "stdout",
     "output_type": "stream",
     "text": [
      "\n",
      "Predicting MIDI for midi_dataset\\we_wish_you.mp3...\n",
      "\n",
      "\n",
      "  Creating model output npz...\n",
      "  💁‍♀️ Saved to midi_dataset\\we_wish_you_basic_pitch.npz\n",
      "\n",
      "\n",
      "  Creating midi...\n",
      "  💅 Saved to midi_dataset\\we_wish_you_basic_pitch.mid\n",
      "\n",
      "\n",
      "  Creating midi sonification...\n",
      "  🎧 Saved to midi_dataset\\we_wish_you_basic_pitch.wav\n"
     ]
    }
   ],
   "source": [
    "from pathlib import Path\n",
    "from basic_pitch.inference import predict, predict_and_save\n",
    "from basic_pitch import ICASSP_2022_MODEL_PATH\n",
    "\n",
    "midi_paths = Path(\"midi_dataset/\")\n",
    "mp3_paths = Path(\"midi_dataset/\")\n",
    "predict_and_save(mp3_paths.glob(\"we_wish_you.mp3\"), midi_paths, save_midi=True,\n",
    "                 sonify_midi=True, model_path=ICASSP_2022_MODEL_PATH, save_model_outputs=True, save_notes=False)"
   ]
  }
 ],
 "metadata": {
  "kernelspec": {
   "display_name": "Python 3",
   "language": "python",
   "name": "python3"
  },
  "language_info": {
   "codemirror_mode": {
    "name": "ipython",
    "version": 3
   },
   "file_extension": ".py",
   "mimetype": "text/x-python",
   "name": "python",
   "nbconvert_exporter": "python",
   "pygments_lexer": "ipython3",
   "version": "3.11.1"
  }
 },
 "nbformat": 4,
 "nbformat_minor": 2
}
