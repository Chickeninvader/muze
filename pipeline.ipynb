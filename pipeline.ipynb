{
 "cells": [
  {
   "cell_type": "markdown",
   "metadata": {},
   "source": [
    "# Preprocessing data"
   ]
  },
  {
   "cell_type": "code",
   "execution_count": null,
   "metadata": {},
   "outputs": [],
   "source": [
    "import librosa\n",
    "from transformers import BertTokenizer\n",
    "\n",
    "audio_files = [\"1699168556.1432111.mp3\"]\n",
    "description = \"The recording features a live performance of a traditional song and it consists of sustained synth pad, punchy kick and snare hits, shimmering cymbals, groovy bass and synth pad. It sounds soft, mellow, passionate and emotional.\"\n",
    "\n",
    "sample_rate = 16000\n",
    "n_fft = 2048\n",
    "hop_length = 512\n",
    "\n",
    "audio_features = []\n",
    "for afile in audio_files:\n",
    "    y, sr = librosa.load(afile, sr=sample_rate)\n",
    "\n",
    "    melspec = librosa.feature.melspectrogram(y=y, sr=sr, n_fft=n_fft,\n",
    "                                             hop_length=hop_length)\n",
    "    melspec = librosa.power_to_db(melspec)\n",
    "\n",
    "    chroma = librosa.feature.chroma_stft(S=melspec, sr=sr, n_fft=n_fft,\n",
    "                                         hop_length=hop_length)\n",
    "\n",
    "    audio_features.append((melspec, chroma))"
   ]
  }
 ],
 "metadata": {
  "language_info": {
   "name": "python"
  }
 },
 "nbformat": 4,
 "nbformat_minor": 2
}
